{
 "cells": [
  {
   "cell_type": "markdown",
   "metadata": {},
   "source": [
    "<h1><center><b>Appendix A</b></center></h1>"
   ]
  },
  {
   "cell_type": "code",
   "execution_count": 3,
   "metadata": {},
   "outputs": [],
   "source": [
    "import numpy as np\n",
    "import pandas as pd\n",
    "import matplotlib.pyplot as plt\n",
    "from tqdm import tqdm\n",
    "from itertools import product\n",
    "import plotly.express as px\n",
    "from scipy.stats import pearsonr, spearmanr, linregress\n",
    "\n",
    "\n",
    "pd.options.mode.chained_assignment = None"
   ]
  },
  {
   "cell_type": "markdown",
   "metadata": {},
   "source": [
    "Muhammad Hassan Nishat 1005835250 & Arjun Puri 1004707490\n",
    "\n",
    "Required Data:\n",
    "\n",
    "CLICS Database: https://clics.clld.org/\n",
    "\n",
    "Word Association Data (SWOW-EN.R100.csv): https://osf.io/hjvm5/\n",
    "\n",
    "Base Lexicon Files: https://github.com/hassan3301/COG260-Data.git\n",
    "\n"
   ]
  },
  {
   "cell_type": "code",
   "execution_count": 32,
   "metadata": {},
   "outputs": [
    {
     "name": "stderr",
     "output_type": "stream",
     "text": [
      "/var/folders/6j/k_ngy9gs69sckj60lmgylm1r0000gn/T/ipykernel_47912/2801652837.py:1: DtypeWarning: Columns (4) have mixed types. Specify dtype option on import or set low_memory=False.\n",
      "  df = pd.read_csv(\"df_all_raw.csv\")\n"
     ]
    }
   ],
   "source": [
    "df = pd.read_csv(\"df_all_raw.csv\")\n",
    "df.columns = list(map(str.lower, df.columns))\n",
    "df = df.drop(columns=['dataset_id', 'form_id', 'form', 'gloss_in_source', 'iso639p3code', 'mrc_word', 'kucera_francis_frequency'])"
   ]
  },
  {
   "cell_type": "code",
   "execution_count": 18,
   "metadata": {},
   "outputs": [],
   "source": [
    "def per_lang_colexification(curr_df):\n",
    "    \"\"\"\n",
    "    Calculate the colexification frequency of pairs of concepts present in the current language.\n",
    "    \"\"\"\n",
    "    all_combos_dict = {}\n",
    "    # We iterate through each row, which has the concepts associated with a specific word\n",
    "    for i, row in curr_df.iterrows():\n",
    "        # Get the current set of concepts\n",
    "        a = row['concepticon_gloss']\n",
    "        # Create all possible unique combinations of concepts, where each pair is alphabetically sorted\n",
    "        combos = list(set(map(lambda x: tuple(sorted(x)), product(a, a))))\n",
    "        # Ensure the concepts in the pair are not identical\n",
    "        combos = [combo for combo in combos if combo[0] != combo[1]]\n",
    "        # Add counts for a pair of combinations being colexified\n",
    "        for combo in combos:\n",
    "            if combo in all_combos_dict:\n",
    "                all_combos_dict[combo] += 1\n",
    "            else:\n",
    "                all_combos_dict[combo] = 1\n",
    "\n",
    "    # Create a DataFrame out of our dictionary and return the colexification counts for two concepts\n",
    "    tmp = pd.DataFrame.from_dict(all_combos_dict, \"index\").reset_index()\n",
    "    per_lang = pd.DataFrame(tmp['index'].tolist(), columns=['concept_1', \"concept_2\"])\n",
    "    per_lang['colexification_count'] = tmp[0]\n",
    "    return per_lang"
   ]
  },
  {
   "cell_type": "code",
   "execution_count": 19,
   "metadata": {},
   "outputs": [],
   "source": [
    "def main():\n",
    "    all_dfs = []\n",
    "    for variety in tqdm(df['variety'].unique()):\n",
    "        sub = df[df['variety'] == variety]\n",
    "        agg = sub.groupby(\"clics_form\")[['concepticon_gloss', 'concepticon_id']].agg(list)\n",
    "        agg['num_concepts'] = agg['concepticon_gloss'].apply(lambda x: len(set(x)))\n",
    "        colex = agg[agg['num_concepts']>1]\n",
    "        colex['concepticon_gloss'] = colex['concepticon_gloss'].apply(lambda x: sorted(list(set(x))))\n",
    "        # We skip any language where no concepts are colexified\n",
    "        if colex.shape[0] == 0:\n",
    "            continue\n",
    "        curr_df = per_lang_colexification(colex)\n",
    "        all_dfs.append(curr_df)\n",
    "    mega = pd.concat(all_dfs)\n",
    "    colex_counts = mega.groupby([\"concept_1\", \"concept_2\"]).sum().reset_index()\n",
    "    return colex_counts"
   ]
  },
  {
   "cell_type": "code",
   "execution_count": 20,
   "metadata": {},
   "outputs": [
    {
     "name": "stderr",
     "output_type": "stream",
     "text": [
      "100%|██████████| 3050/3050 [03:17<00:00, 15.43it/s]\n"
     ]
    }
   ],
   "source": [
    "colex_counts = main()"
   ]
  },
  {
   "cell_type": "code",
   "execution_count": 15,
   "metadata": {},
   "outputs": [
    {
     "data": {
      "text/html": [
       "<div>\n",
       "<style scoped>\n",
       "    .dataframe tbody tr th:only-of-type {\n",
       "        vertical-align: middle;\n",
       "    }\n",
       "\n",
       "    .dataframe tbody tr th {\n",
       "        vertical-align: top;\n",
       "    }\n",
       "\n",
       "    .dataframe thead th {\n",
       "        text-align: right;\n",
       "    }\n",
       "</style>\n",
       "<table border=\"1\" class=\"dataframe\">\n",
       "  <thead>\n",
       "    <tr style=\"text-align: right;\">\n",
       "      <th></th>\n",
       "      <th>cue</th>\n",
       "      <th>R1</th>\n",
       "      <th>R2</th>\n",
       "      <th>R3</th>\n",
       "    </tr>\n",
       "  </thead>\n",
       "  <tbody>\n",
       "    <tr>\n",
       "      <th>0</th>\n",
       "      <td>although</td>\n",
       "      <td>nevertheless</td>\n",
       "      <td>yet</td>\n",
       "      <td>but</td>\n",
       "    </tr>\n",
       "    <tr>\n",
       "      <th>1</th>\n",
       "      <td>deal</td>\n",
       "      <td>no</td>\n",
       "      <td>cards</td>\n",
       "      <td>shake</td>\n",
       "    </tr>\n",
       "    <tr>\n",
       "      <th>2</th>\n",
       "      <td>music</td>\n",
       "      <td>notes</td>\n",
       "      <td>band</td>\n",
       "      <td>rhythm</td>\n",
       "    </tr>\n",
       "    <tr>\n",
       "      <th>3</th>\n",
       "      <td>inform</td>\n",
       "      <td>tell</td>\n",
       "      <td>rat on</td>\n",
       "      <td>NaN</td>\n",
       "    </tr>\n",
       "    <tr>\n",
       "      <th>4</th>\n",
       "      <td>way</td>\n",
       "      <td>path</td>\n",
       "      <td>via</td>\n",
       "      <td>method</td>\n",
       "    </tr>\n",
       "    <tr>\n",
       "      <th>...</th>\n",
       "      <td>...</td>\n",
       "      <td>...</td>\n",
       "      <td>...</td>\n",
       "      <td>...</td>\n",
       "    </tr>\n",
       "    <tr>\n",
       "      <th>1228195</th>\n",
       "      <td>strange</td>\n",
       "      <td>mask</td>\n",
       "      <td>weird</td>\n",
       "      <td>stranger</td>\n",
       "    </tr>\n",
       "    <tr>\n",
       "      <th>1228196</th>\n",
       "      <td>sunset</td>\n",
       "      <td>sea</td>\n",
       "      <td>sky</td>\n",
       "      <td>clause</td>\n",
       "    </tr>\n",
       "    <tr>\n",
       "      <th>1228197</th>\n",
       "      <td>useless</td>\n",
       "      <td>pitty</td>\n",
       "      <td>worthless</td>\n",
       "      <td>worth</td>\n",
       "    </tr>\n",
       "    <tr>\n",
       "      <th>1228198</th>\n",
       "      <td>volume</td>\n",
       "      <td>loud</td>\n",
       "      <td>music</td>\n",
       "      <td>key</td>\n",
       "    </tr>\n",
       "    <tr>\n",
       "      <th>1228199</th>\n",
       "      <td>whenever</td>\n",
       "      <td>who</td>\n",
       "      <td>where</td>\n",
       "      <td>always</td>\n",
       "    </tr>\n",
       "  </tbody>\n",
       "</table>\n",
       "<p>1228200 rows × 4 columns</p>\n",
       "</div>"
      ],
      "text/plain": [
       "              cue            R1         R2        R3\n",
       "0        although  nevertheless        yet       but\n",
       "1            deal            no      cards     shake\n",
       "2           music         notes       band    rhythm\n",
       "3          inform          tell     rat on       NaN\n",
       "4             way          path        via    method\n",
       "...           ...           ...        ...       ...\n",
       "1228195   strange          mask      weird  stranger\n",
       "1228196    sunset           sea        sky    clause\n",
       "1228197   useless         pitty  worthless     worth\n",
       "1228198    volume          loud      music       key\n",
       "1228199  whenever           who      where    always\n",
       "\n",
       "[1228200 rows x 4 columns]"
      ]
     },
     "execution_count": 15,
     "metadata": {},
     "output_type": "execute_result"
    }
   ],
   "source": [
    "assoc_en = pd.read_csv('SWOW-EN.R100.csv')\n",
    "assoc = assoc_en[assoc_en.columns[9:]]\n",
    "assoc\n"
   ]
  },
  {
   "cell_type": "code",
   "execution_count": 21,
   "metadata": {},
   "outputs": [],
   "source": [
    "colexarr =[]\n",
    "for index, row in colex_counts.iterrows():\n",
    "    colexarr.append([str(row['concept_1']).lower(), str(row['concept_2']).lower()])\n"
   ]
  },
  {
   "cell_type": "code",
   "execution_count": 22,
   "metadata": {},
   "outputs": [],
   "source": [
    "assocarr = []\n",
    "for index, row in assoc.iterrows():\n",
    "    for i in range(3):\n",
    "        assocarr.append([str(row['cue']).lower(), str(row['R'+str(i+1)]).lower()])"
   ]
  },
  {
   "cell_type": "code",
   "execution_count": 23,
   "metadata": {},
   "outputs": [],
   "source": [
    "assocarr_R1 = []\n",
    "for index, row in assoc.iterrows():\n",
    "    assocarr_R1.append([str(row['cue']).lower(), str(row['R1']).lower()])"
   ]
  },
  {
   "cell_type": "code",
   "execution_count": null,
   "metadata": {},
   "outputs": [],
   "source": [
    "base_lexicon = []\n",
    "for i in tqdm(assocarr):\n",
    "    if i in colexarr or [i[1], i[0]] in colexarr:\n",
    "        base_lexicon.append(i)"
   ]
  },
  {
   "cell_type": "markdown",
   "metadata": {},
   "source": [
    "These 4 code cells below create lists of colexification and association counts for our base lexicon. There is also an option to import this data from csv files below."
   ]
  },
  {
   "cell_type": "code",
   "execution_count": null,
   "metadata": {},
   "outputs": [],
   "source": [
    "base_lexicon_colex = []\n",
    "\n",
    "for i in tqdm(range(len(base_lexicon))):\n",
    "    query1 = \"concept_1=='{}' and concept_2=='{}'\".format(base_lexicon[i][0].upper(),base_lexicon[i][1].upper())\n",
    "    query2 = \"concept_1=='{}' and concept_2=='{}'\".format(base_lexicon[i][1].upper(),base_lexicon[i][0].upper())\n",
    "    df1 = colex_counts.query(query1)\n",
    "    \n",
    "    if not df1.empty:\n",
    "        base_lexicon_colex.append(df1['colexification_count'])\n",
    "    else:\n",
    "        df2 = colex_counts.query(query2)\n",
    "        base_lexicon_colex.append(df2['colexification_count'])"
   ]
  },
  {
   "cell_type": "code",
   "execution_count": null,
   "metadata": {},
   "outputs": [],
   "source": [
    "base_lexicon_assoc = []\n",
    "for i in tqdm(base_lexicon):\n",
    "    count = 0\n",
    "    for j in assocarr:\n",
    "        if (i[0] == j[0] and i[1] == j[1]):\n",
    "            count+=1\n",
    "    base_lexicon_assoc.append(count)"
   ]
  },
  {
   "cell_type": "code",
   "execution_count": null,
   "metadata": {},
   "outputs": [],
   "source": [
    "base_lexicon_assoc_R1 = []\n",
    "for i in tqdm(base_lexicon):\n",
    "    count = 0\n",
    "    for j in assocarr_R1:\n",
    "        if (i[0] == j[0] and i[1] == j[1]):\n",
    "            count+=1\n",
    "    base_lexicon_assoc_R1.append(count)"
   ]
  },
  {
   "cell_type": "markdown",
   "metadata": {},
   "source": [
    "Run the below code to import the csv files filled with the lists created by the code above."
   ]
  },
  {
   "cell_type": "code",
   "execution_count": 33,
   "metadata": {},
   "outputs": [],
   "source": [
    "import csv\n",
    "with open('base_lexicon.csv', newline='') as f:\n",
    "    reader = csv.reader(f)\n",
    "    base_lexicon = list(reader)\n",
    "\n",
    "for i in range(len(base_lexicon)):\n",
    "    base_lexicon[i][1] = base_lexicon[i][1].strip()\n",
    "\n",
    "del base_lexicon[33082]\n",
    "\n",
    "with open('base_lexicon_assoc.csv', newline='') as f:\n",
    "    reader = csv.reader(f)\n",
    "    base_lexicon_assoc = list(reader)\n",
    "del base_lexicon_assoc[33082]\n",
    "\n",
    "with open('base_lexicon_assoc_R1.csv', newline='') as f:\n",
    "    reader = csv.reader(f)\n",
    "    base_lexicon_assoc_R1 = list(reader)\n",
    "del base_lexicon_assoc_R1[33082]\n",
    "\n",
    "with open('base_lexicon_colex.csv', newline='') as f:\n",
    "    reader = csv.reader(f)\n",
    "    base_lexicon_colex = list(reader)"
   ]
  },
  {
   "cell_type": "code",
   "execution_count": 34,
   "metadata": {},
   "outputs": [],
   "source": [
    "base_lexicon_colex = [int(item) for sublist in base_lexicon_colex for item in sublist]\n",
    "base_lexicon_assoc = [int(item) for sublist in base_lexicon_assoc for item in sublist]\n",
    "base_lexicon_assoc_R1 = [int(item) for sublist in base_lexicon_assoc_R1 for item in sublist]"
   ]
  },
  {
   "cell_type": "code",
   "execution_count": 35,
   "metadata": {},
   "outputs": [
    {
     "data": {
      "text/html": [
       "<div>\n",
       "<style scoped>\n",
       "    .dataframe tbody tr th:only-of-type {\n",
       "        vertical-align: middle;\n",
       "    }\n",
       "\n",
       "    .dataframe tbody tr th {\n",
       "        vertical-align: top;\n",
       "    }\n",
       "\n",
       "    .dataframe thead th {\n",
       "        text-align: right;\n",
       "    }\n",
       "</style>\n",
       "<table border=\"1\" class=\"dataframe\">\n",
       "  <thead>\n",
       "    <tr style=\"text-align: right;\">\n",
       "      <th></th>\n",
       "      <th>Base_Lexicon</th>\n",
       "      <th>Colex_Counts</th>\n",
       "      <th>Assoc</th>\n",
       "      <th>Assoc_R1</th>\n",
       "    </tr>\n",
       "  </thead>\n",
       "  <tbody>\n",
       "    <tr>\n",
       "      <th>0</th>\n",
       "      <td>[paper, book]</td>\n",
       "      <td>67</td>\n",
       "      <td>6</td>\n",
       "      <td>3</td>\n",
       "    </tr>\n",
       "    <tr>\n",
       "      <th>1</th>\n",
       "      <td>[town, village]</td>\n",
       "      <td>68</td>\n",
       "      <td>29</td>\n",
       "      <td>11</td>\n",
       "    </tr>\n",
       "    <tr>\n",
       "      <th>2</th>\n",
       "      <td>[mind, brain]</td>\n",
       "      <td>24</td>\n",
       "      <td>55</td>\n",
       "      <td>22</td>\n",
       "    </tr>\n",
       "    <tr>\n",
       "      <th>3</th>\n",
       "      <td>[read, learn]</td>\n",
       "      <td>63</td>\n",
       "      <td>10</td>\n",
       "      <td>2</td>\n",
       "    </tr>\n",
       "    <tr>\n",
       "      <th>4</th>\n",
       "      <td>[board, wood]</td>\n",
       "      <td>19</td>\n",
       "      <td>35</td>\n",
       "      <td>9</td>\n",
       "    </tr>\n",
       "    <tr>\n",
       "      <th>...</th>\n",
       "      <td>...</td>\n",
       "      <td>...</td>\n",
       "      <td>...</td>\n",
       "      <td>...</td>\n",
       "    </tr>\n",
       "    <tr>\n",
       "      <th>71898</th>\n",
       "      <td>[preserve, keep]</td>\n",
       "      <td>166</td>\n",
       "      <td>30</td>\n",
       "      <td>20</td>\n",
       "    </tr>\n",
       "    <tr>\n",
       "      <th>71899</th>\n",
       "      <td>[stream, river]</td>\n",
       "      <td>32</td>\n",
       "      <td>52</td>\n",
       "      <td>30</td>\n",
       "    </tr>\n",
       "    <tr>\n",
       "      <th>71900</th>\n",
       "      <td>[toe, foot]</td>\n",
       "      <td>5</td>\n",
       "      <td>65</td>\n",
       "      <td>49</td>\n",
       "    </tr>\n",
       "    <tr>\n",
       "      <th>71901</th>\n",
       "      <td>[breast, chicken]</td>\n",
       "      <td>1</td>\n",
       "      <td>26</td>\n",
       "      <td>7</td>\n",
       "    </tr>\n",
       "    <tr>\n",
       "      <th>71902</th>\n",
       "      <td>[bark, tree]</td>\n",
       "      <td>3</td>\n",
       "      <td>79</td>\n",
       "      <td>29</td>\n",
       "    </tr>\n",
       "  </tbody>\n",
       "</table>\n",
       "<p>71903 rows × 4 columns</p>\n",
       "</div>"
      ],
      "text/plain": [
       "            Base_Lexicon  Colex_Counts  Assoc  Assoc_R1\n",
       "0          [paper, book]            67      6         3\n",
       "1        [town, village]            68     29        11\n",
       "2          [mind, brain]            24     55        22\n",
       "3          [read, learn]            63     10         2\n",
       "4          [board, wood]            19     35         9\n",
       "...                  ...           ...    ...       ...\n",
       "71898   [preserve, keep]           166     30        20\n",
       "71899    [stream, river]            32     52        30\n",
       "71900        [toe, foot]             5     65        49\n",
       "71901  [breast, chicken]             1     26         7\n",
       "71902       [bark, tree]             3     79        29\n",
       "\n",
       "[71903 rows x 4 columns]"
      ]
     },
     "execution_count": 35,
     "metadata": {},
     "output_type": "execute_result"
    }
   ],
   "source": [
    "d = {'Base_Lexicon': base_lexicon, 'Colex_Counts': base_lexicon_colex, 'Assoc': base_lexicon_assoc, 'Assoc_R1': base_lexicon_assoc_R1}\n",
    "df2 = pd.DataFrame(data=d)\n",
    "df2"
   ]
  },
  {
   "cell_type": "code",
   "execution_count": 36,
   "metadata": {},
   "outputs": [
    {
     "data": {
      "text/plain": [
       "Text(0, 0.5, 'Colexification Count')"
      ]
     },
     "execution_count": 36,
     "metadata": {},
     "output_type": "execute_result"
    },
    {
     "data": {
      "image/png": "[encoded data removed]",
      "text/plain": [
       "<Figure size 432x288 with 1 Axes>"
      ]
     },
     "metadata": {
      "needs_background": "light"
     },
     "output_type": "display_data"
    }
   ],
   "source": [
    "plt.scatter(base_lexicon_assoc, base_lexicon_colex)\n",
    "plt.title('Association vs Colexification')\n",
    "plt.xlabel(\"Association Count\")\n",
    "plt.ylabel(\"Colexification Count\")\n"
   ]
  },
  {
   "cell_type": "code",
   "execution_count": 37,
   "metadata": {},
   "outputs": [],
   "source": [
    "spearmanR123 = spearmanr(base_lexicon_assoc, base_lexicon_colex)\n",
    "spearmanR1 = spearmanr(base_lexicon_assoc_R1, base_lexicon_colex)"
   ]
  },
  {
   "cell_type": "code",
   "execution_count": 38,
   "metadata": {},
   "outputs": [
    {
     "name": "stdout",
     "output_type": "stream",
     "text": [
      "SpearmanrResult(correlation=0.24433085061261967, pvalue=0.0) SpearmanrResult(correlation=0.24878294815024218, pvalue=0.0)\n"
     ]
    }
   ],
   "source": [
    "print(spearmanR123, spearmanR1)"
   ]
  },
  {
   "cell_type": "code",
   "execution_count": 40,
   "metadata": {},
   "outputs": [
    {
     "data": {
      "image/png": "[encoded data removed]",
      "text/plain": [
       "<Figure size 432x288 with 1 Axes>"
      ]
     },
     "metadata": {
      "needs_background": "light"
     },
     "output_type": "display_data"
    }
   ],
   "source": [
    "R123corr = spearmanR123[0]\n",
    "R1corr = spearmanR1[0]\n",
    "\n",
    "fig = plt.figure()\n",
    "ax = fig.add_axes([0,0,1,1])\n",
    "x = ['Assoc', 'Assoc R1']\n",
    "y = [R123corr, R1corr]\n",
    "ax.bar(x, y, color=['blue', 'green'])\n",
    "plt.title('Spearman Correlation between Colexification and Association')\n",
    "plt.show()"
   ]
  }
 ],
 "metadata": {
  "kernelspec": {
   "display_name": "Python 3.9.12 ('base')",
   "language": "python",
   "name": "python3"
  },
  "language_info": {
   "codemirror_mode": {
    "name": "ipython",
    "version": 3
   },
   "file_extension": ".py",
   "mimetype": "text/x-python",
   "name": "python",
   "nbconvert_exporter": "python",
   "pygments_lexer": "ipython3",
   "version": "3.9.12"
  },
  "orig_nbformat": 4,
  "vscode": {
   "interpreter": {
    "hash": "adaf209193001a9c56041b65cfd1f80b9358e774ae1bbb6fae342bdee9b0493e"
   }
  }
 },
 "nbformat": 4,
 "nbformat_minor": 2
}
